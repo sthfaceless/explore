{
 "nbformat": 4,
 "nbformat_minor": 0,
 "metadata": {
  "colab": {
   "name": "text-model.ipynb",
   "provenance": [],
   "collapsed_sections": [],
   "authorship_tag": "ABX9TyM5TVhtR6km9t87zVFjVywv"
  },
  "kernelspec": {
   "name": "python3",
   "display_name": "Python 3"
  },
  "language_info": {
   "name": "python"
  }
 },
 "cells": [
  {
   "cell_type": "code",
   "metadata": {
    "id": "If39YKKZGhp7",
    "pycharm": {
     "name": "#%%\n"
    }
   },
   "source": [
    "!pip3 install transformers sentencepiece pandas gensim"
   ],
   "execution_count": null,
   "outputs": []
  },
  {
   "cell_type": "code",
   "metadata": {
    "id": "xvnFHx8lGlFx",
    "pycharm": {
     "name": "#%%\n"
    }
   },
   "source": [
    "import pandas as pd \n",
    "import numpy as np \n",
    "import torch\n",
    "from transformers import AutoTokenizer, AutoModel\n",
    "import gensim\n",
    "import csv\n",
    "import gc"
   ],
   "execution_count": null,
   "outputs": []
  },
  {
   "cell_type": "code",
   "metadata": {
    "id": "MgnBD_oUGmJM",
    "pycharm": {
     "name": "#%%\n"
    }
   },
   "source": [
    "cols = ['title', 'description']\n",
    "data = pd.read_csv('/storage/data/simple_features.csv', chunksize=100000)"
   ],
   "execution_count": null,
   "outputs": []
  },
  {
   "cell_type": "code",
   "metadata": {
    "id": "QyqydVTBGoe4",
    "pycharm": {
     "name": "#%%\n"
    }
   },
   "source": [
    "for i, chunk in enumerate(data):\n",
    "    chunk = chunk[cols].fillna('продать')\n",
    "    for col in cols:\n",
    "        chunk[col].to_csv('/storage/data/{}.txt'.format(col), header=False, index=False, sep=' ', encoding='utf-8',\n",
    "        quoting=csv.QUOTE_NONE, escapechar=' ', mode='w' if i == 0 else 'a')\n",
    "data = None\n",
    "gc.collect()"
   ],
   "execution_count": null,
   "outputs": []
  },
  {
   "cell_type": "code",
   "metadata": {
    "id": "AQRk1vWiIBmM",
    "pycharm": {
     "name": "#%%\n"
    }
   },
   "source": [
    "for col in cols:\n",
    "  model = gensim.models.doc2vec.Doc2Vec(vector_size=100 if col == 'title' else 300, \n",
    "                                        window = 3 if col == 'title' else 5,\n",
    "                                        min_count=10, epochs=30, workers=8)\n",
    "  model.build_vocab(corpus_file='/storage/data/{}.txt'.format(col))\n",
    "  model.train(corpus_file='/storage/data/{}.txt'.format(col),\n",
    "   total_examples=model.corpus_count, epochs=model.epochs, total_words=model.corpus_count)\n",
    "  model.save('/storage/data/doc2vec_{}'.format(col))\n",
    "  gc.collect()"
   ],
   "execution_count": null,
   "outputs": []
  }
 ]
}