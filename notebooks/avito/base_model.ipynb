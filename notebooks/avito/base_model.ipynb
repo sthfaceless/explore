{
 "nbformat": 4,
 "nbformat_minor": 0,
 "metadata": {
  "colab": {
   "name": "base_model.ipynb",
   "provenance": [],
   "collapsed_sections": [],
   "authorship_tag": "ABX9TyPysLHzNhIhIKp0AvwvdQIA"
  },
  "kernelspec": {
   "name": "python3",
   "display_name": "Python 3"
  },
  "language_info": {
   "name": "python"
  }
 },
 "cells": [
  {
   "cell_type": "code",
   "metadata": {
    "id": "sXasavM9Kb2S",
    "colab": {
     "base_uri": "https://localhost:8080/"
    },
    "executionInfo": {
     "status": "ok",
     "timestamp": 1638565926967,
     "user_tz": -180,
     "elapsed": 54675,
     "user": {
      "displayName": "Данил Ельцов",
      "photoUrl": "https://lh3.googleusercontent.com/a/default-user=s64",
      "userId": "01985227269587903507"
     }
    },
    "outputId": "0e35e4f7-a5ee-4363-9586-f47e8744e7cb",
    "pycharm": {
     "name": "#%%\n"
    }
   },
   "source": [
    "!pip3 install tensorflow-rocm"
   ],
   "execution_count": 1,
   "outputs": [
    {
     "output_type": "stream",
     "name": "stdout",
     "text": [
      "Collecting tensorflow-rocm\n",
      "  Downloading tensorflow_rocm-2.6.2-cp37-cp37m-manylinux2014_x86_64.whl (350.8 MB)\n",
      "\u001B[K     |████████████████████████████████| 350.8 MB 13 kB/s \n",
      "\u001B[?25hRequirement already satisfied: six~=1.15.0 in /usr/local/lib/python3.7/dist-packages (from tensorflow-rocm) (1.15.0)\n",
      "Requirement already satisfied: google-pasta~=0.2 in /usr/local/lib/python3.7/dist-packages (from tensorflow-rocm) (0.2.0)\n",
      "Requirement already satisfied: h5py~=3.1.0 in /usr/local/lib/python3.7/dist-packages (from tensorflow-rocm) (3.1.0)\n",
      "Requirement already satisfied: gast==0.4.0 in /usr/local/lib/python3.7/dist-packages (from tensorflow-rocm) (0.4.0)\n",
      "Requirement already satisfied: numpy~=1.19.2 in /usr/local/lib/python3.7/dist-packages (from tensorflow-rocm) (1.19.5)\n",
      "Requirement already satisfied: keras-preprocessing~=1.1.2 in /usr/local/lib/python3.7/dist-packages (from tensorflow-rocm) (1.1.2)\n",
      "Requirement already satisfied: opt-einsum~=3.3.0 in /usr/local/lib/python3.7/dist-packages (from tensorflow-rocm) (3.3.0)\n",
      "Collecting typing-extensions~=3.7.4\n",
      "  Downloading typing_extensions-3.7.4.3-py3-none-any.whl (22 kB)\n",
      "Collecting flatbuffers~=1.12.0\n",
      "  Downloading flatbuffers-1.12-py2.py3-none-any.whl (15 kB)\n",
      "Requirement already satisfied: keras~=2.6 in /usr/local/lib/python3.7/dist-packages (from tensorflow-rocm) (2.7.0)\n",
      "Collecting wrapt~=1.12.1\n",
      "  Downloading wrapt-1.12.1.tar.gz (27 kB)\n",
      "Requirement already satisfied: absl-py~=0.10 in /usr/local/lib/python3.7/dist-packages (from tensorflow-rocm) (0.12.0)\n",
      "Requirement already satisfied: grpcio<2.0,>=1.37.0 in /usr/local/lib/python3.7/dist-packages (from tensorflow-rocm) (1.42.0)\n",
      "Requirement already satisfied: protobuf>=3.9.2 in /usr/local/lib/python3.7/dist-packages (from tensorflow-rocm) (3.17.3)\n",
      "Requirement already satisfied: wheel~=0.35 in /usr/local/lib/python3.7/dist-packages (from tensorflow-rocm) (0.37.0)\n",
      "Requirement already satisfied: termcolor~=1.1.0 in /usr/local/lib/python3.7/dist-packages (from tensorflow-rocm) (1.1.0)\n",
      "Requirement already satisfied: tensorboard~=2.6 in /usr/local/lib/python3.7/dist-packages (from tensorflow-rocm) (2.7.0)\n",
      "Requirement already satisfied: tensorflow-estimator~=2.6 in /usr/local/lib/python3.7/dist-packages (from tensorflow-rocm) (2.7.0)\n",
      "Requirement already satisfied: astunparse~=1.6.3 in /usr/local/lib/python3.7/dist-packages (from tensorflow-rocm) (1.6.3)\n",
      "Collecting clang~=5.0\n",
      "  Downloading clang-5.0.tar.gz (30 kB)\n",
      "Requirement already satisfied: cached-property in /usr/local/lib/python3.7/dist-packages (from h5py~=3.1.0->tensorflow-rocm) (1.5.2)\n",
      "Requirement already satisfied: tensorboard-data-server<0.7.0,>=0.6.0 in /usr/local/lib/python3.7/dist-packages (from tensorboard~=2.6->tensorflow-rocm) (0.6.1)\n",
      "Requirement already satisfied: google-auth<3,>=1.6.3 in /usr/local/lib/python3.7/dist-packages (from tensorboard~=2.6->tensorflow-rocm) (1.35.0)\n",
      "Requirement already satisfied: markdown>=2.6.8 in /usr/local/lib/python3.7/dist-packages (from tensorboard~=2.6->tensorflow-rocm) (3.3.6)\n",
      "Requirement already satisfied: google-auth-oauthlib<0.5,>=0.4.1 in /usr/local/lib/python3.7/dist-packages (from tensorboard~=2.6->tensorflow-rocm) (0.4.6)\n",
      "Requirement already satisfied: tensorboard-plugin-wit>=1.6.0 in /usr/local/lib/python3.7/dist-packages (from tensorboard~=2.6->tensorflow-rocm) (1.8.0)\n",
      "Requirement already satisfied: requests<3,>=2.21.0 in /usr/local/lib/python3.7/dist-packages (from tensorboard~=2.6->tensorflow-rocm) (2.23.0)\n",
      "Requirement already satisfied: werkzeug>=0.11.15 in /usr/local/lib/python3.7/dist-packages (from tensorboard~=2.6->tensorflow-rocm) (1.0.1)\n",
      "Requirement already satisfied: setuptools>=41.0.0 in /usr/local/lib/python3.7/dist-packages (from tensorboard~=2.6->tensorflow-rocm) (57.4.0)\n",
      "Requirement already satisfied: cachetools<5.0,>=2.0.0 in /usr/local/lib/python3.7/dist-packages (from google-auth<3,>=1.6.3->tensorboard~=2.6->tensorflow-rocm) (4.2.4)\n",
      "Requirement already satisfied: pyasn1-modules>=0.2.1 in /usr/local/lib/python3.7/dist-packages (from google-auth<3,>=1.6.3->tensorboard~=2.6->tensorflow-rocm) (0.2.8)\n",
      "Requirement already satisfied: rsa<5,>=3.1.4 in /usr/local/lib/python3.7/dist-packages (from google-auth<3,>=1.6.3->tensorboard~=2.6->tensorflow-rocm) (4.8)\n",
      "Requirement already satisfied: requests-oauthlib>=0.7.0 in /usr/local/lib/python3.7/dist-packages (from google-auth-oauthlib<0.5,>=0.4.1->tensorboard~=2.6->tensorflow-rocm) (1.3.0)\n",
      "Requirement already satisfied: importlib-metadata>=4.4 in /usr/local/lib/python3.7/dist-packages (from markdown>=2.6.8->tensorboard~=2.6->tensorflow-rocm) (4.8.2)\n",
      "Requirement already satisfied: zipp>=0.5 in /usr/local/lib/python3.7/dist-packages (from importlib-metadata>=4.4->markdown>=2.6.8->tensorboard~=2.6->tensorflow-rocm) (3.6.0)\n",
      "Requirement already satisfied: pyasn1<0.5.0,>=0.4.6 in /usr/local/lib/python3.7/dist-packages (from pyasn1-modules>=0.2.1->google-auth<3,>=1.6.3->tensorboard~=2.6->tensorflow-rocm) (0.4.8)\n",
      "Requirement already satisfied: idna<3,>=2.5 in /usr/local/lib/python3.7/dist-packages (from requests<3,>=2.21.0->tensorboard~=2.6->tensorflow-rocm) (2.10)\n",
      "Requirement already satisfied: urllib3!=1.25.0,!=1.25.1,<1.26,>=1.21.1 in /usr/local/lib/python3.7/dist-packages (from requests<3,>=2.21.0->tensorboard~=2.6->tensorflow-rocm) (1.24.3)\n",
      "Requirement already satisfied: certifi>=2017.4.17 in /usr/local/lib/python3.7/dist-packages (from requests<3,>=2.21.0->tensorboard~=2.6->tensorflow-rocm) (2021.10.8)\n",
      "Requirement already satisfied: chardet<4,>=3.0.2 in /usr/local/lib/python3.7/dist-packages (from requests<3,>=2.21.0->tensorboard~=2.6->tensorflow-rocm) (3.0.4)\n",
      "Requirement already satisfied: oauthlib>=3.0.0 in /usr/local/lib/python3.7/dist-packages (from requests-oauthlib>=0.7.0->google-auth-oauthlib<0.5,>=0.4.1->tensorboard~=2.6->tensorflow-rocm) (3.1.1)\n",
      "Building wheels for collected packages: clang, wrapt\n",
      "  Building wheel for clang (setup.py) ... \u001B[?25l\u001B[?25hdone\n",
      "  Created wheel for clang: filename=clang-5.0-py3-none-any.whl size=30692 sha256=09c5d16665b8d2fa118967c2cc393ebfb842cd38411d0a3d84f8af4e99316fc7\n",
      "  Stored in directory: /root/.cache/pip/wheels/98/91/04/971b4c587cf47ae952b108949b46926f426c02832d120a082a\n",
      "  Building wheel for wrapt (setup.py) ... \u001B[?25l\u001B[?25hdone\n",
      "  Created wheel for wrapt: filename=wrapt-1.12.1-cp37-cp37m-linux_x86_64.whl size=68720 sha256=cc2da0782e74162960876b3147f7cebc3ccbde1df685f63e58520cab384f8290\n",
      "  Stored in directory: /root/.cache/pip/wheels/62/76/4c/aa25851149f3f6d9785f6c869387ad82b3fd37582fa8147ac6\n",
      "Successfully built clang wrapt\n",
      "Installing collected packages: typing-extensions, wrapt, flatbuffers, clang, tensorflow-rocm\n",
      "  Attempting uninstall: typing-extensions\n",
      "    Found existing installation: typing-extensions 3.10.0.2\n",
      "    Uninstalling typing-extensions-3.10.0.2:\n",
      "      Successfully uninstalled typing-extensions-3.10.0.2\n",
      "  Attempting uninstall: wrapt\n",
      "    Found existing installation: wrapt 1.13.3\n",
      "    Uninstalling wrapt-1.13.3:\n",
      "      Successfully uninstalled wrapt-1.13.3\n",
      "  Attempting uninstall: flatbuffers\n",
      "    Found existing installation: flatbuffers 2.0\n",
      "    Uninstalling flatbuffers-2.0:\n",
      "      Successfully uninstalled flatbuffers-2.0\n",
      "Successfully installed clang-5.0 flatbuffers-1.12 tensorflow-rocm-2.6.2 typing-extensions-3.7.4.3 wrapt-1.12.1\n"
     ]
    }
   ]
  },
  {
   "cell_type": "code",
   "metadata": {
    "id": "bRmwv8H0KhDU",
    "pycharm": {
     "name": "#%%\n"
    }
   },
   "source": [
    "import tensorflow as tf\n",
    "import tabnet "
   ],
   "execution_count": null,
   "outputs": []
  },
  {
   "cell_type": "code",
   "metadata": {
    "id": "1XBYVnU3K8WD",
    "pycharm": {
     "name": "#%%\n"
    }
   },
   "source": [
    "feature_columns = []"
   ],
   "execution_count": null,
   "outputs": []
  },
  {
   "cell_type": "code",
   "metadata": {
    "id": "c_sTUwdmLhqF",
    "pycharm": {
     "name": "#%%\n"
    }
   },
   "source": [
    "def prepare_features(data, label):\n",
    "  features = [key for key in data.keys() if key.startswith(feature_columns)]\n",
    "  return tf.stack[tf.cast(data[key], tf.float32) for key in features], axis=1), tf.cast(label, tf.float32)\n",
    "def get_dataset(suffix):\n",
    "  data = tf.data.experimental.make_csv_dataset('/storage/data/dataset_{}.csv'.format(suffix), \n",
    "                                              batch_size=1000, label_name='deal_probability', shuffle=True,\n",
    "                                              shuffle_buffer_size=10000,\n",
    "                                              num_parallel_reads=tf.data.AUTOTUNE)\n",
    "  data = data.map(prepare_features, num_parallel_calls=tf.data.AUTOTUNE)"
   ],
   "execution_count": null,
   "outputs": []
  },
  {
   "cell_type": "code",
   "metadata": {
    "id": "57QHDigVKk_N",
    "pycharm": {
     "name": "#%%\n"
    }
   },
   "source": [
    "train = get_dataset('train')\n",
    "test = get_dataset('test')"
   ],
   "execution_count": null,
   "outputs": []
  },
  {
   "cell_type": "code",
   "metadata": {
    "id": "RB6COszgMFBY",
    "pycharm": {
     "name": "#%%\n"
    }
   },
   "source": [
    "# Use Group Normalization for small batch sizes\n",
    "model = tabnet.TabNetRegressor(feature_columns=None, \n",
    "                               num_regressors=1,\n",
    "                               num_decision_steps=5, \n",
    "                               relaxation_factor=1.2, \n",
    "                               sparsity_coefficient=0.001,\n",
    "                               batch_momentum=0.8,\n",
    "                               virtual_batch_size=250,\n",
    "                               feature_dim = 64,\n",
    "                               output_dim = 32)\n",
    "\n",
    "lr = tf.keras.optimizers.schedules.ExponentialDecay(0.002, decay_steps=2000, decay_rate=0.95, staircase=False)\n",
    "optimizer = tf.keras.optimizers.Adam(lr)\n",
    "model.compile(optimizer, loss='mse', metrics=['mse', 'mae'])\n",
    "\n",
    "model.fit(train, epochs=15, validation_data=test, verbose=True, steps_per_epoch=10000)\n",
    "\n",
    "model.summary()"
   ],
   "execution_count": null,
   "outputs": []
  },
  {
   "cell_type": "code",
   "metadata": {
    "id": "HRwZ649zT9NI",
    "pycharm": {
     "name": "#%%\n"
    }
   },
   "source": [
    "model.save('/storage/data/tabnet')"
   ],
   "execution_count": null,
   "outputs": []
  }
 ]
}